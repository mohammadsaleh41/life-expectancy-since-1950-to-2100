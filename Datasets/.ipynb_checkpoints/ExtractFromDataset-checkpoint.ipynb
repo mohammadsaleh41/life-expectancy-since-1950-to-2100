{
 "cells": [
  {
   "cell_type": "code",
   "execution_count": 1,
   "id": "b3b0b06e",
   "metadata": {},
   "outputs": [],
   "source": [
    "import numpy as np\n",
    "import pandas as pd"
   ]
  },
  {
   "cell_type": "code",
   "execution_count": 21,
   "id": "a45712a1",
   "metadata": {},
   "outputs": [],
   "source": [
    "data = pd.read_excel('./WPP2022.xlsx', sheet_name=[0, 1], skiprows=16, header=0)"
   ]
  },
  {
   "cell_type": "code",
   "execution_count": 59,
   "id": "ddee0aac",
   "metadata": {},
   "outputs": [],
   "source": [
    "CountryInfo = data[0].copy()\n",
    "CountryInfo = CountryInfo[CountryInfo['Type'] == 'Country/Area']\n",
    "CountryInfo.sort_values(['Region, subregion, country or area *', 'Year'], inplace=True)\n",
    "CountryInfo.drop(['Index', 'Variant', 'Notes', 'Location code', 'ISO3 Alpha-code', 'ISO2 Alpha-code',\n",
    "                 'SDMX code**', 'Type', 'Parent code'], axis=1, inplace=True)\n",
    "# country_index = np.arange(len(CountryInfo), dtype=int) + 1\n",
    "# CountryInfo.set_index(country_index, inplace=True)\n",
    "\n",
    "EstimationInfo = data[1].copy()\n",
    "EstimationInfo = EstimationInfo[EstimationInfo['Type'] == 'Country/Area']\n",
    "EstimationInfo.sort_values(['Region, subregion, country or area *', 'Year'], inplace=True)\n",
    "EstimationInfo.drop(['Index', 'Variant', 'Notes', 'Location code', 'ISO3 Alpha-code', 'ISO2 Alpha-code',\n",
    "                 'SDMX code**', 'Type', 'Parent code'], axis=1, inplace=True)\n",
    "# estimation_index = np.arange(len(EstimationInfo), dtype=int) + 1\n",
    "# EstimationInfo.set_index(estimation_index, inplace=True)\n",
    "\n",
    "countries = np.unique(CountryInfo['Region, subregion, country or area *'])\n",
    "country_names = {'Name': countries}\n",
    "CountryNames = pd.DataFrame(country_names)"
   ]
  },
  {
   "cell_type": "code",
   "execution_count": 60,
   "id": "e71a27bc",
   "metadata": {},
   "outputs": [],
   "source": [
    "CountryInfo.to_csv('CountryInfo.csv', index=None)\n",
    "EstimationInfo.to_csv('EstimationInfo.csv', index=None)\n",
    "CountryNames.to_csv('CountryNames.csv', index=None)"
   ]
  }
 ],
 "metadata": {
  "kernelspec": {
   "display_name": "Python 3 (ipykernel)",
   "language": "python",
   "name": "python3"
  },
  "language_info": {
   "codemirror_mode": {
    "name": "ipython",
    "version": 3
   },
   "file_extension": ".py",
   "mimetype": "text/x-python",
   "name": "python",
   "nbconvert_exporter": "python",
   "pygments_lexer": "ipython3",
   "version": "3.11.0"
  }
 },
 "nbformat": 4,
 "nbformat_minor": 5
}
