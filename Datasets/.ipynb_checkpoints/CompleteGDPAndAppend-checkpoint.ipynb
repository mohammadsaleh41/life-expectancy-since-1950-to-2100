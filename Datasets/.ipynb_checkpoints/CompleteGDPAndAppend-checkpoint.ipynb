{
 "cells": [
  {
   "cell_type": "code",
   "execution_count": 281,
   "id": "12015054",
   "metadata": {},
   "outputs": [],
   "source": [
    "import numpy as np\n",
    "import pandas as pd\n",
    "import matplotlib.pyplot as plt\n",
    "from sklearn.linear_model import LinearRegression"
   ]
  },
  {
   "cell_type": "code",
   "execution_count": 282,
   "id": "eca7d551",
   "metadata": {},
   "outputs": [],
   "source": [
    "data = pd.read_csv('./DataWithGDP.csv')\n",
    "\n",
    "countries = list(np.unique(data.loc[:, 'Region, subregion, country or area *']))\n",
    "\n",
    "reg_data = data[['Region, subregion, country or area *', 'Year', 'GDP per capita_x']]\n",
    "\n",
    "years = set(np.arange(1950, 2022))"
   ]
  },
  {
   "cell_type": "code",
   "execution_count": 283,
   "id": "7bfb046a",
   "metadata": {},
   "outputs": [],
   "source": [
    "removed_countries = []\n",
    "full_df = []\n",
    "for country in countries:\n",
    "    country_df = reg_data[reg_data['Region, subregion, country or area *'] == country]\n",
    "    country_df = country_df[country_df['GDP per capita_x'] != -1]\n",
    "    if not country_df.empty:\n",
    "        x = country_df.iloc[:, 1]\n",
    "        unknown = np.array(list(years - set(x))).reshape(-1, 1)\n",
    "        unknown.sort()\n",
    "        x = x.values.reshape(-1, 1)\n",
    "        y = country_df.iloc[:, 2].values.reshape(-1, 1)\n",
    "        model = LinearRegression()\n",
    "        model.fit(x, y)\n",
    "        pred = model.predict(unknown)\n",
    "        pred_df = pd.DataFrame({'Region, subregion, country or area *': country,\n",
    "                                'Year': unknown.reshape(-1, ), 'GDP per capita_x': pred.reshape(-1, )})\n",
    "        full_df.append(pd.concat([country_df, pred_df], ignore_index=True))\n",
    "    else:\n",
    "        removed_countries.append(country)\n",
    "        data.drop(data[data['Region, subregion, country or area *'] == country].index, inplace=True)\n",
    "full_gdp = pd.concat(full_df, ignore_index=True)"
   ]
  },
  {
   "cell_type": "code",
   "execution_count": 284,
   "id": "f5d6b5a7",
   "metadata": {
    "scrolled": true
   },
   "outputs": [],
   "source": [
    "full_gdp.sort_values(['Region, subregion, country or area *', 'Year'], inplace=True)"
   ]
  },
  {
   "cell_type": "code",
   "execution_count": 277,
   "id": "296bc920",
   "metadata": {},
   "outputs": [],
   "source": [
    "# remain_countries = list(set(countries) - set(removed_countries))\n",
    "# remain_countries.sort()\n",
    "# for i in remain_countries:\n",
    "#     plt.scatter(list(years),\n",
    "#                 full_gdp[full_gdp['Region, subregion, country or area *'] == i]\n",
    "#                 .loc[:, 'GDP per capita_x'])\n",
    "#     plt.show()"
   ]
  },
  {
   "cell_type": "code",
   "execution_count": 285,
   "id": "b0837c40",
   "metadata": {},
   "outputs": [],
   "source": [
    "data.drop(columns=['GDP per capita_x', 'GDP per capita_y'], inplace=True)"
   ]
  },
  {
   "cell_type": "code",
   "execution_count": 292,
   "id": "3e3f0ffd",
   "metadata": {},
   "outputs": [],
   "source": [
    "data_gdp = pd.merge(data, full_gdp, on=['Region, subregion, country or area *', 'Year'])\n",
    "data_gdp.rename(columns={'GDP per capita_x': 'GDP'}, inplace=True)"
   ]
  },
  {
   "cell_type": "code",
   "execution_count": 293,
   "id": "27a3f242",
   "metadata": {},
   "outputs": [],
   "source": [
    "data_gdp.to_csv('./DataWithFullGDP.csv')"
   ]
  },
  {
   "cell_type": "code",
   "execution_count": null,
   "id": "95143087",
   "metadata": {},
   "outputs": [],
   "source": []
  }
 ],
 "metadata": {
  "kernelspec": {
   "display_name": "Python 3 (ipykernel)",
   "language": "python",
   "name": "python3"
  },
  "language_info": {
   "codemirror_mode": {
    "name": "ipython",
    "version": 3
   },
   "file_extension": ".py",
   "mimetype": "text/x-python",
   "name": "python",
   "nbconvert_exporter": "python",
   "pygments_lexer": "ipython3",
   "version": "3.11.0"
  }
 },
 "nbformat": 4,
 "nbformat_minor": 5
}
